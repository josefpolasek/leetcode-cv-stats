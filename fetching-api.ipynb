{
 "cells": [
  {
   "cell_type": "code",
   "execution_count": 1,
   "id": "initial_id",
   "metadata": {
    "collapsed": true,
    "ExecuteTime": {
     "end_time": "2024-05-19T08:57:06.926248Z",
     "start_time": "2024-05-19T08:57:06.917854Z"
    }
   },
   "outputs": [
    {
     "name": "stdout",
     "output_type": "stream",
     "text": [
      "hello\n"
     ]
    }
   ],
   "source": [
    "print(\"hello\")"
   ]
  },
  {
   "cell_type": "code",
   "outputs": [],
   "source": [
    "import requests\n",
    "import json\n",
    "from bs4 import BeautifulSoup"
   ],
   "metadata": {
    "collapsed": false,
    "ExecuteTime": {
     "end_time": "2024-05-19T09:10:06.028826Z",
     "start_time": "2024-05-19T09:10:06.025778Z"
    }
   },
   "id": "aae11a4cfe68cf2b",
   "execution_count": 52
  },
  {
   "cell_type": "code",
   "outputs": [],
   "source": [
    "\n",
    "def get_leetcode_profile_data(username):\n",
    "    url = f\"https://leetcode-stats-api.herokuapp.com/{username}/\"\n",
    "    response = requests.get(url)\n",
    "    \n",
    "    # Check if the response status code is 200 (OK)\n",
    "    if response.status_code == 200:\n",
    "        # Decode the byte content to a string\n",
    "        response_content = response.content.decode('utf-8')\n",
    "    \n",
    "        # Parse the JSON string into a dictionary\n",
    "        profile_data = json.loads(response_content)\n",
    "        \n",
    "        return profile_data\n",
    "    else:\n",
    "        print(\"Failed to retrieve data.\")\n",
    "        return None\n"
   ],
   "metadata": {
    "collapsed": false,
    "ExecuteTime": {
     "end_time": "2024-05-19T09:16:12.285214Z",
     "start_time": "2024-05-19T09:16:12.281108Z"
    }
   },
   "id": "4013f0fea3d96249",
   "execution_count": 83
  },
  {
   "cell_type": "code",
   "outputs": [
    {
     "name": "stdout",
     "output_type": "stream",
     "text": [
      "Total Problems Solved: 11\n",
      "Easy: 10\n",
      "Medium: 1\n",
      "Hard: 0\n",
      "Rank: 3975956\n"
     ]
    }
   ],
   "source": [
    "username = 'LzqIa8BepA'\n",
    "profile_data = get_leetcode_profile_data(username)\n",
    "# print(profile_data)\n",
    "\n",
    "total = profile_data[\"totalSolved\"]\n",
    "easy = profile_data[\"easySolved\"]\n",
    "medium = profile_data[\"mediumSolved\"]\n",
    "hard = profile_data[\"hardSolved\"]\n",
    "rank = profile_data[\"ranking\"]\n",
    "\n",
    "print(f\"Total Problems Solved: {total}\")\n",
    "print(f\"Easy: {easy}\")\n",
    "print(f\"Medium: {medium}\")\n",
    "print(f\"Hard: {hard}\")\n",
    "print(f\"Rank: {rank}\")"
   ],
   "metadata": {
    "collapsed": false,
    "ExecuteTime": {
     "end_time": "2024-05-19T09:17:47.830169Z",
     "start_time": "2024-05-19T09:17:46.846944Z"
    }
   },
   "id": "91610f4a992b2fca",
   "execution_count": 85
  }
 ],
 "metadata": {
  "kernelspec": {
   "display_name": "Python 3",
   "language": "python",
   "name": "python3"
  },
  "language_info": {
   "codemirror_mode": {
    "name": "ipython",
    "version": 2
   },
   "file_extension": ".py",
   "mimetype": "text/x-python",
   "name": "python",
   "nbconvert_exporter": "python",
   "pygments_lexer": "ipython2",
   "version": "2.7.6"
  }
 },
 "nbformat": 4,
 "nbformat_minor": 5
}

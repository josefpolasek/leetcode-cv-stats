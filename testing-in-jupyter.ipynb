{
 "cells": [
  {
   "cell_type": "markdown",
   "source": [
    "# Changing the Leetcode stats in my CV"
   ],
   "metadata": {
    "collapsed": false
   },
   "id": "34c667ada1ef797d"
  },
  {
   "cell_type": "markdown",
   "source": [
    "## 1. get data from Leetcode"
   ],
   "metadata": {
    "collapsed": false
   },
   "id": "f2b15bff6e7fbda0"
  },
  {
   "cell_type": "code",
   "outputs": [],
   "source": [
    "import requests\n",
    "import json\n",
    "from bs4 import BeautifulSoup"
   ],
   "metadata": {
    "collapsed": false,
    "ExecuteTime": {
     "end_time": "2024-05-28T20:18:16.761120Z",
     "start_time": "2024-05-28T20:18:16.758075Z"
    }
   },
   "id": "aae11a4cfe68cf2b",
   "execution_count": 97
  },
  {
   "cell_type": "code",
   "outputs": [],
   "source": [
    "\n",
    "def get_leetcode_profile_data(username):\n",
    "    url = f\"https://leetcode-stats-api.herokuapp.com/{username}/\"\n",
    "    response = requests.get(url)\n",
    "\n",
    "    # Check if the response status code is 200 (OK)\n",
    "    if response.status_code == 200:\n",
    "        # Decode the byte content to a string\n",
    "        response_content = response.content.decode('utf-8')\n",
    "\n",
    "        # Parse the JSON string into a dictionary\n",
    "        profile_data = json.loads(response_content)\n",
    "\n",
    "        return profile_data\n",
    "    else:\n",
    "        print(\"Failed to retrieve data.\")\n",
    "        return None\n"
   ],
   "metadata": {
    "collapsed": false,
    "ExecuteTime": {
     "end_time": "2024-05-28T20:18:16.810387Z",
     "start_time": "2024-05-28T20:18:16.806131Z"
    }
   },
   "id": "4013f0fea3d96249",
   "execution_count": 98
  },
  {
   "cell_type": "code",
   "outputs": [
    {
     "name": "stdout",
     "output_type": "stream",
     "text": [
      "Total Problems Solved: 34\n",
      "Easy: 29\n",
      "Medium: 5\n",
      "Hard: 0\n",
      "Rank: 1,845,022\n"
     ]
    }
   ],
   "source": [
    "username = 'josefpolasek'\n",
    "profile_data = get_leetcode_profile_data(username)\n",
    "# print(profile_data)\n",
    "\n",
    "total = profile_data[\"totalSolved\"]\n",
    "easy = profile_data[\"easySolved\"]\n",
    "medium = profile_data[\"mediumSolved\"]\n",
    "hard = profile_data[\"hardSolved\"]\n",
    "rank = profile_data[\"ranking\"]\n",
    "\n",
    "print(f\"Total Problems Solved: {total}\")\n",
    "print(f\"Easy: {easy}\")\n",
    "print(f\"Medium: {medium}\")\n",
    "print(f\"Hard: {hard}\")\n",
    "print(f\"Rank: {rank:,}\")"
   ],
   "metadata": {
    "collapsed": false,
    "ExecuteTime": {
     "end_time": "2024-05-28T20:18:18.051199Z",
     "start_time": "2024-05-28T20:18:16.812793Z"
    }
   },
   "id": "91610f4a992b2fca",
   "execution_count": 99
  },
  {
   "cell_type": "markdown",
   "source": [
    "## 2. Update the CV"
   ],
   "metadata": {
    "collapsed": false
   },
   "id": "ba9d3653e6e4564e"
  },
  {
   "cell_type": "code",
   "outputs": [],
   "source": [
    "from google.oauth2 import service_account\n",
    "from googleapiclient.discovery import build\n",
    "import io\n",
    "from googleapiclient.http import MediaIoBaseDownload, MediaFileUpload\n",
    "\n",
    "SCOPES = ['https://www.googleapis.com/auth/documents', 'https://www.googleapis.com/auth/drive']\n",
    "\n",
    "SERVICE_ACCOUNT_FILE = 'credentials.json'\n",
    "\n",
    "# Create credentials object\n",
    "credentials = service_account.Credentials.from_service_account_file(SERVICE_ACCOUNT_FILE, scopes=SCOPES)\n",
    "\n",
    "# Initialize the Google Drive service\n",
    "drive_service = build('drive', 'v3', credentials=credentials)\n",
    "\n",
    "# Initialize the Google Docs service\n",
    "docs_service = build('docs', 'v1', credentials=credentials)\n"
   ],
   "metadata": {
    "collapsed": false,
    "ExecuteTime": {
     "end_time": "2024-05-28T20:18:18.122733Z",
     "start_time": "2024-05-28T20:18:18.053609Z"
    }
   },
   "id": "ab2a4b06e270bf9d",
   "execution_count": 100
  },
  {
   "cell_type": "markdown",
   "source": [
    "### Copy the document"
   ],
   "metadata": {
    "collapsed": false
   },
   "id": "af28b0352ff1cf61"
  },
  {
   "cell_type": "code",
   "outputs": [],
   "source": [
    "document_id = '1bCtSLi71qrT03579jhfNyS6SOvdSKh7RUtPJMBMAGtY'\n",
    "\n",
    "copy_title = '5'\n",
    "body = {\n",
    "    'name': copy_title\n",
    "}\n",
    "drive_response = drive_service.files().copy(\n",
    "    fileId=document_id, body=body).execute()\n",
    "document_copy_id = drive_response.get('id')\n"
   ],
   "metadata": {
    "collapsed": false,
    "ExecuteTime": {
     "end_time": "2024-05-28T20:18:21.150561Z",
     "start_time": "2024-05-28T20:18:18.124464Z"
    }
   },
   "id": "e86bce73a603d9f6",
   "execution_count": 101
  },
  {
   "cell_type": "markdown",
   "source": [
    "### Replace placeholders"
   ],
   "metadata": {
    "collapsed": false
   },
   "id": "aa49cd0175888558"
  },
  {
   "cell_type": "code",
   "outputs": [],
   "source": [
    "replacements = {\n",
    "    '{easy_solved}': str(easy),\n",
    "    '{medium_solved}': str(medium),\n",
    "    '{hard_solved}': str(hard)\n",
    "}\n",
    "\n",
    "# Create a list of requests to replace each placeholder\n",
    "requests = []\n",
    "for placeholder, value in replacements.items():\n",
    "    requests.append({\n",
    "        'replaceAllText': {\n",
    "            'containsText': {\n",
    "                'text': placeholder,\n",
    "                'matchCase': True\n",
    "            },\n",
    "            'replaceText': value,\n",
    "        }\n",
    "    })\n",
    "\n",
    "result = docs_service.documents().batchUpdate(\n",
    "    documentId=document_copy_id, body={'requests': requests}).execute()\n"
   ],
   "metadata": {
    "collapsed": false,
    "ExecuteTime": {
     "end_time": "2024-05-28T20:18:22.338740Z",
     "start_time": "2024-05-28T20:18:21.153246Z"
    }
   },
   "id": "d5354bebad325015",
   "execution_count": 102
  },
  {
   "cell_type": "markdown",
   "source": [
    "### Delete duplicate CV.pdf"
   ],
   "metadata": {
    "collapsed": false
   },
   "id": "5583498bfd884d9"
  },
  {
   "cell_type": "code",
   "outputs": [],
   "source": [
    "folder_id = '1DxFHYlVDQNhuVsLMYT2nJJFgwNzAYcfq'\n",
    "file_name = 'CV.pdf'\n",
    "\n",
    "query = f'\"{folder_id}\" in parents and trashed=false and name=\"{file_name}\"'\n",
    "results = drive_service.files().list(q=query).execute()\n",
    "files = results.get('files', [])\n",
    "if not files:\n",
    "    print(\"No file found.\")\n",
    "else:\n",
    "    file_id = files[0]['id']\n",
    "    drive_service.files().delete(fileId=file_id).execute()"
   ],
   "metadata": {
    "collapsed": false,
    "ExecuteTime": {
     "end_time": "2024-05-28T20:18:23.307708Z",
     "start_time": "2024-05-28T20:18:22.340918Z"
    }
   },
   "id": "4d28dd7643e00923",
   "execution_count": 103
  },
  {
   "cell_type": "markdown",
   "source": [
    "### Save as PDF"
   ],
   "metadata": {
    "collapsed": false
   },
   "id": "d245c41d23bd5eb"
  },
  {
   "cell_type": "code",
   "outputs": [],
   "source": [
    "pdf_file = drive_service.files().export(fileId=document_copy_id, mimeType='application/pdf').execute()"
   ],
   "metadata": {
    "collapsed": false,
    "ExecuteTime": {
     "end_time": "2024-05-28T20:18:23.949223Z",
     "start_time": "2024-05-28T20:18:23.309254Z"
    }
   },
   "id": "b70f4657daa7881f",
   "execution_count": 104
  },
  {
   "cell_type": "markdown",
   "source": [
    "### Upload the PDF"
   ],
   "metadata": {
    "collapsed": false
   },
   "id": "1378a5105d161451"
  },
  {
   "cell_type": "code",
   "outputs": [],
   "source": [
    "from googleapiclient.http import MediaIoBaseUpload\n",
    "import io\n",
    "\n",
    "# upload it\n",
    "file_metadata = {\n",
    "    'name': 'CV.pdf',\n",
    "    'parents': ['1DxFHYlVDQNhuVsLMYT2nJJFgwNzAYcfq']\n",
    "}\n",
    "\n",
    "pdf_file_io = io.BytesIO(pdf_file)\n",
    "media = MediaIoBaseUpload(pdf_file_io, mimetype='application/pdf')\n",
    "\n",
    "uploaded_file = drive_service.files().create(\n",
    "    body=file_metadata,\n",
    "    media_body=media,\n",
    "    fields='id'\n",
    ").execute()\n",
    "\n"
   ],
   "metadata": {
    "collapsed": false,
    "ExecuteTime": {
     "end_time": "2024-05-28T20:18:25.297268Z",
     "start_time": "2024-05-28T20:18:23.951771Z"
    }
   },
   "id": "d8d290bb8b7992da",
   "execution_count": 105
  },
  {
   "cell_type": "markdown",
   "source": [
    "### Delete the copy"
   ],
   "metadata": {
    "collapsed": false
   },
   "id": "ff3e793e6bbcf80c"
  },
  {
   "cell_type": "code",
   "outputs": [
    {
     "data": {
      "text/plain": "''"
     },
     "execution_count": 106,
     "metadata": {},
     "output_type": "execute_result"
    }
   ],
   "source": [
    "drive_service.files().delete(fileId=document_copy_id).execute()"
   ],
   "metadata": {
    "collapsed": false,
    "ExecuteTime": {
     "end_time": "2024-05-28T20:18:25.739315Z",
     "start_time": "2024-05-28T20:18:25.299370Z"
    }
   },
   "id": "79845253d4b5363f",
   "execution_count": 106
  }
 ],
 "metadata": {
  "kernelspec": {
   "display_name": "Python 3",
   "language": "python",
   "name": "python3"
  },
  "language_info": {
   "codemirror_mode": {
    "name": "ipython",
    "version": 2
   },
   "file_extension": ".py",
   "mimetype": "text/x-python",
   "name": "python",
   "nbconvert_exporter": "python",
   "pygments_lexer": "ipython2",
   "version": "2.7.6"
  }
 },
 "nbformat": 4,
 "nbformat_minor": 5
}

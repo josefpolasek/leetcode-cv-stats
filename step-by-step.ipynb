{
 "cells": [
  {
   "cell_type": "markdown",
   "source": [
    "# Changing the Leetcode stats in my CV"
   ],
   "metadata": {
    "collapsed": false
   },
   "id": "34c667ada1ef797d"
  },
  {
   "cell_type": "markdown",
   "source": [
    "## 1. get data from Leetcode"
   ],
   "metadata": {
    "collapsed": false
   },
   "id": "f2b15bff6e7fbda0"
  },
  {
   "cell_type": "code",
   "outputs": [],
   "source": [
    "import requests\n",
    "import json\n",
    "\n",
    "from config import USERNAME\n",
    "\n",
    "\n",
    "def get_leetcode_profile_data(username):\n",
    "    # using an api for getting Leetcode stats\n",
    "    url = f\"https://leetcode-stats-api.herokuapp.com/{username}/\"\n",
    "    response = requests.get(url)\n",
    "\n",
    "    # Check if the response status code is 200 (OK)\n",
    "    if response.status_code == 200:\n",
    "        # Decode the byte content to a string\n",
    "        response_content = response.content.decode('utf-8')\n",
    "\n",
    "        # Parse the JSON string into a dictionary\n",
    "        profile_data = json.loads(response_content)\n",
    "\n",
    "        return profile_data\n",
    "    else:\n",
    "        print(\"Failed to retrieve data.\")\n",
    "        return None\n",
    "\n",
    "\n",
    "profile_data = get_leetcode_profile_data(USERNAME)\n",
    "\n",
    "# total = profile_data[\"totalSolved\"]\n",
    "easy = profile_data[\"easySolved\"]\n",
    "medium = profile_data[\"mediumSolved\"]\n",
    "hard = profile_data[\"hardSolved\"]\n",
    "# rank = profile_data[\"ranking\"]"
   ],
   "metadata": {
    "collapsed": false,
    "ExecuteTime": {
     "end_time": "2024-05-29T15:45:57.416948Z",
     "start_time": "2024-05-29T15:45:56.326082Z"
    }
   },
   "id": "1634b9905ee1955d",
   "execution_count": 1
  },
  {
   "cell_type": "markdown",
   "source": [
    "## 2. Copy the template"
   ],
   "metadata": {
    "collapsed": false
   },
   "id": "ba9d3653e6e4564e"
  },
  {
   "cell_type": "code",
   "outputs": [],
   "source": [
    "from google.oauth2 import service_account\n",
    "from googleapiclient.discovery import build\n",
    "\n",
    "from config import TEMPLATE_ID, credentials_dict\n",
    "\n",
    "SCOPES = ['https://www.googleapis.com/auth/documents', 'https://www.googleapis.com/auth/drive']\n",
    "\n",
    "# SERVICE_ACCOUNT_FILE = 'credentials.json'\n",
    "credentials = service_account.Credentials.from_service_account_info(credentials_dict)\n",
    "credentials = credentials.with_scopes(SCOPES)\n",
    "\n",
    "# credentials = service_account.Credentials.from_service_account_file(credentials_dict, scopes=SCOPES)\n",
    "\n",
    "# Initialize the Google Drive service\n",
    "drive_service = build('drive', 'v3', credentials=credentials)\n",
    "\n",
    "# Initialize the Google Docs service\n",
    "docs_service = build('docs', 'v1', credentials=credentials)\n",
    "\n",
    "template_id = TEMPLATE_ID\n",
    "\n",
    "copy_title = 'tmp'\n",
    "body = {\n",
    "    'name': copy_title\n",
    "}\n",
    "\n",
    "drive_response = drive_service.files().copy(\n",
    "    fileId=template_id, body=body).execute()\n",
    "document_copy_id = drive_response.get('id')"
   ],
   "metadata": {
    "collapsed": false,
    "ExecuteTime": {
     "end_time": "2024-05-29T15:46:00.989507Z",
     "start_time": "2024-05-29T15:45:57.419761Z"
    }
   },
   "id": "b8e5402a5e699b90",
   "execution_count": 2
  },
  {
   "cell_type": "markdown",
   "source": [
    "## 3. Replace placeholders"
   ],
   "metadata": {
    "collapsed": false
   },
   "id": "aa49cd0175888558"
  },
  {
   "cell_type": "code",
   "outputs": [],
   "source": [
    "import datetime\n",
    "\n",
    "replacements = {\n",
    "    '{easy_solved}': str(easy),\n",
    "    '{medium_solved}': str(medium),\n",
    "    '{hard_solved}': str(hard)\n",
    "}\n",
    "\n",
    "# Create a list of requests to replace each placeholder\n",
    "requests = []\n",
    "for placeholder, value in replacements.items():\n",
    "    requests.append({\n",
    "        'replaceAllText': {\n",
    "            'containsText': {\n",
    "                'text': placeholder,\n",
    "                'matchCase': True\n",
    "            },\n",
    "            'replaceText': value,\n",
    "        }\n",
    "    })\n",
    "\n",
    "requests.append({\n",
    "    'replaceAllText': {\n",
    "        'containsText': {\n",
    "            'text': '{date}',\n",
    "            'matchCase': True\n",
    "        },\n",
    "        'replaceText': datetime.datetime.now().strftime(\"%Y-%m-%d\"),\n",
    "    }\n",
    "})\n",
    "\n",
    "result = docs_service.documents().batchUpdate(\n",
    "    documentId=document_copy_id, body={'requests': requests}).execute()\n"
   ],
   "metadata": {
    "collapsed": false,
    "ExecuteTime": {
     "end_time": "2024-05-29T15:46:02.324678Z",
     "start_time": "2024-05-29T15:46:00.991355Z"
    }
   },
   "id": "d5354bebad325015",
   "execution_count": 3
  },
  {
   "cell_type": "markdown",
   "source": [
    "## 4. Delete duplicate CV.pdf"
   ],
   "metadata": {
    "collapsed": false
   },
   "id": "5583498bfd884d9"
  },
  {
   "cell_type": "code",
   "outputs": [],
   "source": [
    "from config import FOLDER_ID\n",
    "\n",
    "folder_id = FOLDER_ID\n",
    "file_name = 'CV.pdf'\n",
    "\n",
    "query = f'\"{folder_id}\" in parents and trashed=false and name=\"{file_name}\"'\n",
    "results = drive_service.files().list(q=query).execute()\n",
    "files = results.get('files', [])\n",
    "if not files:\n",
    "    print(\"No file found.\")\n",
    "else:\n",
    "    file_id = files[0]['id']\n",
    "    drive_service.files().delete(fileId=file_id).execute()"
   ],
   "metadata": {
    "collapsed": false,
    "ExecuteTime": {
     "end_time": "2024-05-29T15:46:03.315990Z",
     "start_time": "2024-05-29T15:46:02.326699Z"
    }
   },
   "id": "4d28dd7643e00923",
   "execution_count": 4
  },
  {
   "cell_type": "markdown",
   "source": [
    "## 5. Export to PDF"
   ],
   "metadata": {
    "collapsed": false
   },
   "id": "d245c41d23bd5eb"
  },
  {
   "cell_type": "code",
   "outputs": [],
   "source": [
    "pdf_file = drive_service.files().export(fileId=document_copy_id, mimeType='application/pdf').execute()"
   ],
   "metadata": {
    "collapsed": false,
    "ExecuteTime": {
     "end_time": "2024-05-29T15:46:04.350873Z",
     "start_time": "2024-05-29T15:46:03.319389Z"
    }
   },
   "id": "b70f4657daa7881f",
   "execution_count": 5
  },
  {
   "cell_type": "markdown",
   "source": [
    "## 6. Upload the PDF"
   ],
   "metadata": {
    "collapsed": false
   },
   "id": "1378a5105d161451"
  },
  {
   "cell_type": "code",
   "outputs": [],
   "source": [
    "from googleapiclient.http import MediaIoBaseUpload\n",
    "import io\n",
    "\n",
    "from config import FOLDER_ID\n",
    "\n",
    "# upload it\n",
    "file_metadata = {\n",
    "    'name': 'CV.pdf',\n",
    "    'parents': [FOLDER_ID]\n",
    "}\n",
    "\n",
    "pdf_file_io = io.BytesIO(pdf_file)\n",
    "media = MediaIoBaseUpload(pdf_file_io, mimetype='application/pdf')\n",
    "\n",
    "uploaded_file = drive_service.files().create(\n",
    "    body=file_metadata,\n",
    "    media_body=media,\n",
    "    fields='id'\n",
    ").execute()"
   ],
   "metadata": {
    "collapsed": false,
    "ExecuteTime": {
     "end_time": "2024-05-29T15:46:05.918410Z",
     "start_time": "2024-05-29T15:46:04.352386Z"
    }
   },
   "id": "d8d290bb8b7992da",
   "execution_count": 6
  },
  {
   "cell_type": "markdown",
   "source": [
    "## 7. Delete the tmp file"
   ],
   "metadata": {
    "collapsed": false
   },
   "id": "ff3e793e6bbcf80c"
  },
  {
   "cell_type": "code",
   "outputs": [
    {
     "data": {
      "text/plain": "''"
     },
     "execution_count": 7,
     "metadata": {},
     "output_type": "execute_result"
    }
   ],
   "source": [
    "drive_service.files().delete(fileId=document_copy_id).execute()"
   ],
   "metadata": {
    "collapsed": false,
    "ExecuteTime": {
     "end_time": "2024-05-29T15:46:06.380945Z",
     "start_time": "2024-05-29T15:46:05.920248Z"
    }
   },
   "id": "79845253d4b5363f",
   "execution_count": 7
  }
 ],
 "metadata": {
  "kernelspec": {
   "display_name": "Python 3",
   "language": "python",
   "name": "python3"
  },
  "language_info": {
   "codemirror_mode": {
    "name": "ipython",
    "version": 2
   },
   "file_extension": ".py",
   "mimetype": "text/x-python",
   "name": "python",
   "nbconvert_exporter": "python",
   "pygments_lexer": "ipython2",
   "version": "2.7.6"
  }
 },
 "nbformat": 4,
 "nbformat_minor": 5
}

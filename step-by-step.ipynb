{
 "cells": [
  {
   "cell_type": "markdown",
   "id": "34c667ada1ef797d",
   "metadata": {
    "collapsed": false
   },
   "source": [
    "# Changing the Leetcode stats in my CV"
   ]
  },
  {
   "cell_type": "markdown",
   "id": "f2b15bff6e7fbda0",
   "metadata": {
    "collapsed": false
   },
   "source": [
    "## 1. get data from Leetcode"
   ]
  },
  {
   "cell_type": "code",
   "execution_count": 1,
   "id": "1634b9905ee1955d",
   "metadata": {
    "ExecuteTime": {
     "end_time": "2024-05-29T15:45:57.416948Z",
     "start_time": "2024-05-29T15:45:56.326082Z"
    },
    "collapsed": false
   },
   "outputs": [],
   "source": [
    "import requests\n",
    "import json\n",
    "\n",
    "from config import USERNAME\n",
    "\n",
    "\n",
    "def get_leetcode_profile_data(username):\n",
    "    # using an api for getting Leetcode stats\n",
    "    url = f\"https://leetcode-stats-api.herokuapp.com/{username}/\"\n",
    "    response = requests.get(url)\n",
    "\n",
    "    # Check if the response status code is 200 (OK)\n",
    "    if response.status_code == 200:\n",
    "        # Decode the byte content to a string\n",
    "        response_content = response.content.decode('utf-8')\n",
    "\n",
    "        # Parse the JSON string into a dictionary\n",
    "        profile_data = json.loads(response_content)\n",
    "\n",
    "        return profile_data\n",
    "    else:\n",
    "        print(\"Failed to retrieve data.\")\n",
    "        return None\n",
    "\n",
    "\n",
    "profile_data = get_leetcode_profile_data(USERNAME)\n",
    "\n",
    "# total = profile_data[\"totalSolved\"]\n",
    "easy = profile_data[\"easySolved\"]\n",
    "medium = profile_data[\"mediumSolved\"]\n",
    "hard = profile_data[\"hardSolved\"]\n",
    "# rank = profile_data[\"ranking\"]"
   ]
  },
  {
   "cell_type": "markdown",
   "id": "ba9d3653e6e4564e",
   "metadata": {
    "collapsed": false
   },
   "source": [
    "## 2. Copy the template"
   ]
  },
  {
   "cell_type": "code",
   "execution_count": 2,
   "id": "b8e5402a5e699b90",
   "metadata": {
    "ExecuteTime": {
     "end_time": "2024-05-29T15:46:00.989507Z",
     "start_time": "2024-05-29T15:45:57.419761Z"
    },
    "collapsed": false
   },
   "outputs": [],
   "source": [
    "from google.oauth2 import service_account\n",
    "from googleapiclient.discovery import build\n",
    "\n",
    "from config import TEMPLATE_ID, CREDENTIALS_DICT\n",
    "\n",
    "SCOPES = ['https://www.googleapis.com/auth/documents', 'https://www.googleapis.com/auth/drive']\n",
    "\n",
    "# SERVICE_ACCOUNT_FILE = 'credentials.json'\n",
    "credentials = service_account.Credentials.from_service_account_info(CREDENTIALS_DICT)\n",
    "credentials = credentials.with_scopes(SCOPES)\n",
    "\n",
    "# Initialize the Google Drive service\n",
    "drive_service = build('drive', 'v3', credentials=credentials)\n",
    "\n",
    "# Initialize the Google Docs service\n",
    "docs_service = build('docs', 'v1', credentials=credentials)\n",
    "\n",
    "template_id = TEMPLATE_ID\n",
    "\n",
    "copy_title = 'tmp'\n",
    "body = {\n",
    "    'name': copy_title\n",
    "}\n",
    "\n",
    "drive_response = drive_service.files().copy(\n",
    "    fileId=template_id, body=body).execute()\n",
    "document_copy_id = drive_response.get('id')"
   ]
  },
  {
   "cell_type": "markdown",
   "id": "aa49cd0175888558",
   "metadata": {
    "collapsed": false
   },
   "source": [
    "## 3. Replace placeholders"
   ]
  },
  {
   "cell_type": "code",
   "execution_count": 3,
   "id": "d5354bebad325015",
   "metadata": {
    "ExecuteTime": {
     "end_time": "2024-05-29T15:46:02.324678Z",
     "start_time": "2024-05-29T15:46:00.991355Z"
    },
    "collapsed": false
   },
   "outputs": [],
   "source": [
    "import datetime\n",
    "\n",
    "replacements = {\n",
    "    '{easy_solved}': str(easy),\n",
    "    '{medium_solved}': str(medium),\n",
    "    '{hard_solved}': str(hard)\n",
    "}\n",
    "\n",
    "# Create a list of requests to replace each placeholder\n",
    "requests = []\n",
    "for placeholder, value in replacements.items():\n",
    "    requests.append({\n",
    "        'replaceAllText': {\n",
    "            'containsText': {\n",
    "                'text': placeholder,\n",
    "                'matchCase': True\n",
    "            },\n",
    "            'replaceText': value,\n",
    "        }\n",
    "    })\n",
    "\n",
    "requests.append({\n",
    "    'replaceAllText': {\n",
    "        'containsText': {\n",
    "            'text': '{date}',\n",
    "            'matchCase': True\n",
    "        },\n",
    "        'replaceText': datetime.datetime.now().strftime(\"%Y-%m-%d\"),\n",
    "    }\n",
    "})\n",
    "\n",
    "result = docs_service.documents().batchUpdate(\n",
    "    documentId=document_copy_id, body={'requests': requests}).execute()\n"
   ]
  },
  {
   "cell_type": "markdown",
   "id": "5583498bfd884d9",
   "metadata": {
    "collapsed": false
   },
   "source": [
    "## 4. Delete duplicate CV.pdf"
   ]
  },
  {
   "cell_type": "code",
   "execution_count": 4,
   "id": "4d28dd7643e00923",
   "metadata": {
    "ExecuteTime": {
     "end_time": "2024-05-29T15:46:03.315990Z",
     "start_time": "2024-05-29T15:46:02.326699Z"
    },
    "collapsed": false
   },
   "outputs": [],
   "source": [
    "from config import FOLDER_ID\n",
    "\n",
    "folder_id = FOLDER_ID\n",
    "file_name = 'CV.pdf'\n",
    "\n",
    "query = f'\"{folder_id}\" in parents and trashed=false and name=\"{file_name}\"'\n",
    "results = drive_service.files().list(q=query).execute()\n",
    "files = results.get('files', [])\n",
    "if not files:\n",
    "    print(\"No file found.\")\n",
    "else:\n",
    "    file_id = files[0]['id']\n",
    "    drive_service.files().delete(fileId=file_id).execute()"
   ]
  },
  {
   "cell_type": "markdown",
   "id": "d245c41d23bd5eb",
   "metadata": {
    "collapsed": false
   },
   "source": [
    "## 5. Export to PDF"
   ]
  },
  {
   "cell_type": "code",
   "execution_count": 5,
   "id": "b70f4657daa7881f",
   "metadata": {
    "ExecuteTime": {
     "end_time": "2024-05-29T15:46:04.350873Z",
     "start_time": "2024-05-29T15:46:03.319389Z"
    },
    "collapsed": false
   },
   "outputs": [],
   "source": [
    "pdf_file = drive_service.files().export(fileId=document_copy_id, mimeType='application/pdf').execute()"
   ]
  },
  {
   "cell_type": "markdown",
   "id": "1378a5105d161451",
   "metadata": {
    "collapsed": false
   },
   "source": [
    "## 6. Upload the PDF"
   ]
  },
  {
   "cell_type": "code",
   "execution_count": 6,
   "id": "d8d290bb8b7992da",
   "metadata": {
    "ExecuteTime": {
     "end_time": "2024-05-29T15:46:05.918410Z",
     "start_time": "2024-05-29T15:46:04.352386Z"
    },
    "collapsed": false
   },
   "outputs": [],
   "source": [
    "from googleapiclient.http import MediaIoBaseUpload\n",
    "import io\n",
    "\n",
    "from config import FOLDER_ID\n",
    "\n",
    "# upload it\n",
    "file_metadata = {\n",
    "    'name': 'CV.pdf',\n",
    "    'parents': [FOLDER_ID]\n",
    "}\n",
    "\n",
    "pdf_file_io = io.BytesIO(pdf_file)\n",
    "media = MediaIoBaseUpload(pdf_file_io, mimetype='application/pdf')\n",
    "\n",
    "uploaded_file = drive_service.files().create(\n",
    "    body=file_metadata,\n",
    "    media_body=media,\n",
    "    fields='id'\n",
    ").execute()"
   ]
  },
  {
   "cell_type": "markdown",
   "id": "ff3e793e6bbcf80c",
   "metadata": {
    "collapsed": false
   },
   "source": [
    "## 7. Delete the tmp file"
   ]
  },
  {
   "cell_type": "code",
   "execution_count": 7,
   "id": "79845253d4b5363f",
   "metadata": {
    "ExecuteTime": {
     "end_time": "2024-05-29T15:46:06.380945Z",
     "start_time": "2024-05-29T15:46:05.920248Z"
    },
    "collapsed": false
   },
   "outputs": [
    {
     "data": {
      "text/plain": [
       "''"
      ]
     },
     "execution_count": 7,
     "metadata": {},
     "output_type": "execute_result"
    }
   ],
   "source": [
    "drive_service.files().delete(fileId=document_copy_id).execute()"
   ]
  }
 ],
 "metadata": {
  "kernelspec": {
   "display_name": "Python 3 (ipykernel)",
   "language": "python",
   "name": "python3"
  },
  "language_info": {
   "codemirror_mode": {
    "name": "ipython",
    "version": 3
   },
   "file_extension": ".py",
   "mimetype": "text/x-python",
   "name": "python",
   "nbconvert_exporter": "python",
   "pygments_lexer": "ipython3",
   "version": "3.11.8"
  }
 },
 "nbformat": 4,
 "nbformat_minor": 5
}
